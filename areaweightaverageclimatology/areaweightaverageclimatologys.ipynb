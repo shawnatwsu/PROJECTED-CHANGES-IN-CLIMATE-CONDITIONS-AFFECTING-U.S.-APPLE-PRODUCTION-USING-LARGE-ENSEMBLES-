{
 "cells": [
  {
   "cell_type": "markdown",
   "id": "78327b24-13cf-4cab-8ff7-798d6a08c87b",
   "metadata": {},
   "source": [
    "# Import necessary libraries\n"
   ]
  },
  {
   "cell_type": "code",
   "execution_count": null,
   "id": "95b6d1a2-9061-4d5c-96c6-b50eae6b4b5f",
   "metadata": {},
   "outputs": [],
   "source": [
    "import numpy as np\n",
    "import xarray as xr\n",
    "import os\n"
   ]
  },
  {
   "cell_type": "markdown",
   "id": "fa86dcb5-2a10-494d-bc68-59ab32338e36",
   "metadata": {},
   "source": [
    "# Define the function to calculate Earth's radius at a given latitude\n"
   ]
  },
  {
   "cell_type": "code",
   "execution_count": null,
   "id": "1e399e03-3b28-4e19-8171-72b9dc736dac",
   "metadata": {},
   "outputs": [],
   "source": [
    "def earth_radius(lat):\n",
    "    \"\"\"\n",
    "    Calculate the radius of Earth assuming an oblate spheroid defined by WGS84.\n",
    "    \"\"\"\n",
    "    a = 6378137  # semi-major axis in meters\n",
    "    b = 6356752.3142  # semi-minor axis in meters\n",
    "    e2 = 1 - (b**2 / a**2)  # square of eccentricity\n",
    "    \n",
    "    lat_rad = np.deg2rad(lat)  # convert from degrees to radians\n",
    "    lat_gc = np.arctan((1 - e2) * np.tan(lat_rad))  # convert from geodetic to geocentric\n",
    "    \n",
    "    r = (a * (1 - e2)**0.5) / (1 - (e2 * np.cos(lat_gc)**2))**0.5\n",
    "    return r\n"
   ]
  },
  {
   "cell_type": "markdown",
   "id": "731541f3-250e-4869-94ec-be8d10ecc3e5",
   "metadata": {},
   "source": [
    "# Define the function to calculate the area of each grid cell\n"
   ]
  },
  {
   "cell_type": "code",
   "execution_count": null,
   "id": "86b899f5-7ce7-48eb-9572-55c9b8a94546",
   "metadata": {},
   "outputs": [],
   "source": [
    "def area_grid(lat, lon):\n",
    "    \"\"\"\n",
    "    Calculate the area of each grid cell in square meters.\n",
    "    \"\"\"\n",
    "    lon, lat = np.meshgrid(lon, lat)  \n",
    "    R = earth_radius(lat)\n",
    "    \n",
    "    dlat = np.deg2rad(np.gradient(lat, axis=0))\n",
    "    dlon = np.deg2rad(np.gradient(lon, axis=1))\n",
    "    \n",
    "    dy = dlat * R\n",
    "    dx = dlon * R * np.cos(np.deg2rad(lat))\n",
    "    \n",
    "    area = dy * dx  # Area calculation\n",
    "    return area\n"
   ]
  },
  {
   "cell_type": "markdown",
   "id": "3f70d17c-17bb-4927-8a20-a866b64edec0",
   "metadata": {},
   "source": [
    "# Unique latitudes and longitudes provided\n"
   ]
  },
  {
   "cell_type": "code",
   "execution_count": null,
   "id": "e0ae91fd-ca3e-43b4-98ac-1698a2114c8e",
   "metadata": {},
   "outputs": [],
   "source": [
    "latitudes = np.array([25.91623037, 26.85863874, 27.80104712, 28.7434555, 29.68586387, \n",
    "                      30.62827225, 31.57068063, 32.51308901, 33.45549738, 34.39790576, \n",
    "                      35.34031414, 36.28272251, 37.22513089, 38.16753927, 39.10994764, \n",
    "                      40.05235602, 40.9947644, 41.93717277, 42.87958115, 43.82198953, \n",
    "                      44.76439791, 45.70680628, 46.64921466, 47.59162304, 48.53403141, \n",
    "                      49.47643979])\n",
    "longitudes = np.array([235., 236.25, 237.5, 238.75, 240., 241.25, 242.5, 243.75, 245., 246.25,\n",
    "                       247.5, 248.75, 250., 251.25, 252.5, 253.75, 255., 256.25, 257.5, 258.75,\n",
    "                       260., 261.25, 262.5, 263.75, 265., 266.25, 267.5, 268.75, 270., 271.25,\n",
    "                       272.5, 273.75, 275., 276.25, 277.5, 278.75, 280., 281.25, 282.5, 283.75,\n",
    "                       285., 286.25, 287.5, 288.75, 290., 291.25, 292.5, 293.75, 295.])\n"
   ]
  },
  {
   "cell_type": "markdown",
   "id": "604af0cc-79e7-484e-8ce0-372c8f6875d3",
   "metadata": {},
   "source": [
    "# Calculate the area of each grid cell and normalization factors\n"
   ]
  },
  {
   "cell_type": "code",
   "execution_count": null,
   "id": "cd7c20b3-2b09-4413-82fa-3c75b3066ae8",
   "metadata": {},
   "outputs": [],
   "source": [
    "# Calculate the area of each grid cell\n",
    "area = area_grid(latitudes, longitudes)\n",
    "total_area = np.sum(area)\n",
    "\n",
    "# Compute the normalization factor for each cell relative to the average area\n",
    "average_area_per_cell = total_area / area.size\n",
    "normalized_areas = area / average_area_per_cell\n"
   ]
  },
  {
   "cell_type": "markdown",
   "id": "46d4b2e6-8f9c-4dcf-a473-79f9dc7226b9",
   "metadata": {},
   "source": [
    "# Define file paths and variable names for each metric\n"
   ]
  },
  {
   "cell_type": "code",
   "execution_count": null,
   "id": "7675abcf-67b3-428f-b070-804644ad48f1",
   "metadata": {},
   "outputs": [],
   "source": [
    "# File paths and variable names for each metric\n",
    "file_info = {\n",
    "    'daysbelow0': {\n",
    "        '1991_2020': '/home/shawn_preston/daysbelow0ensemble/tavgdaysbelow0_1991_2020.nc',\n",
    "        '2031_2060': '/home/shawn_preston/daysbelow0ensemble/tavgdaysbelow0_2031_2060.nc',\n",
    "        'var_name_1991_2020': 'days_below_0_ensemble_1991_2020',\n",
    "        'var_name_2031_2060': 'days_below_0_ensemble_2031_2060'\n",
    "    },\n",
    "    'frost': {\n",
    "        '1991_2020': '/home/shawn_preston/lastdayfrostensemble/last_frost_1991_2020.nc',\n",
    "        '2031_2060': '/home/shawn_preston/lastdayfrostensemble/last_frost_2031_2060.nc',\n",
    "        'var_name_1991_2020': 'last_frost_dates_ensemble',\n",
    "        'var_name_2031_2060': 'last_frost_dates_ensemble'\n",
    "    },\n",
    "    'gddapr': {\n",
    "        '1991_2020': '/home/shawn_preston/gddcesm2janapr/GDD_1991_2020.nc',\n",
    "        '2031_2060': '/home/shawn_preston/gddcesm2janapr/GDD_2031_2060.nc',\n",
    "        'var_name_1991_2020': 'gdd_ensemble_1991_2020',\n",
    "        'var_name_2031_2060': 'gdd_ensemble_2031_2060'\n",
    "    },\n",
    "    'gddsep': {\n",
    "        '1991_2020': '/home/shawn_preston/gddcdesm2jansept/GDD_1991_2020.nc',\n",
    "        '2031_2060': '/home/shawn_preston/gddcdesm2jansept/GDD_2031_2060.nc',\n",
    "        'var_name_1991_2020': 'gdd_ensemble_1991_2020',\n",
    "        'var_name_2031_2060': 'gdd_ensemble_2031_2060'\n",
    "    },\n",
    "    'tmax': {\n",
    "        '1991_2020': '/home/shawn_preston/tmax34ensemble/tmax1591_20.nc',\n",
    "        '2031_2060': '/home/shawn_preston/tmax34ensemble/tmax1531_60.nc',\n",
    "        'var_name_1991_2020': 'heat_ensemble_1991_2020',\n",
    "        'var_name_2031_2060': 'heat_ensemble_2031_2060'\n",
    "    },\n",
    "    'tmin': {\n",
    "        '1991_2020': '/home/shawn_preston/tmin15ensemble/tmin1591_20.nc',\n",
    "        '2031_2060': '/home/shawn_preston/tmin15ensemble/tmin1531_60.nc',\n",
    "        'var_name_1991_2020': 'night_ensemble_1991_2020',\n",
    "        'var_name_2031_2060': 'night_ensemble_2031_2060'\n",
    "    }\n",
    "}\n"
   ]
  },
  {
   "cell_type": "markdown",
   "id": "542c36fb-a9da-4932-8183-91f74a59b896",
   "metadata": {},
   "source": [
    "# Define the base path for saving new files and create the directory if it does not exist\n"
   ]
  },
  {
   "cell_type": "code",
   "execution_count": null,
   "id": "ae0a3e4c-f6d1-4098-9eed-664544b1b90a",
   "metadata": {},
   "outputs": [],
   "source": [
    "# Base path for saving new files\n",
    "base_path = \"/home/shawn_preston/weightedcesm2\"\n",
    "\n",
    "if not os.path.exists(base_path):\n",
    "    os.makedirs(base_path)  # Create the directory \n"
   ]
  },
  {
   "cell_type": "markdown",
   "id": "cf495d1a-cf90-4ed3-bbe4-6cbcf39de412",
   "metadata": {},
   "source": [
    "# Process each file: Apply normalized areas and save the modified dataset\n"
   ]
  },
  {
   "cell_type": "code",
   "execution_count": null,
   "id": "bc129ef5-2836-4f3f-b2cf-9aa2db14e2e2",
   "metadata": {},
   "outputs": [],
   "source": [
    "# Process each file\n",
    "for category, info in file_info.items():\n",
    "    for period_key, file_path in info.items():\n",
    "        if 'var_name' in period_key:\n",
    "            continue  \n",
    "        var_name = info[f'var_name_{period_key}']  \n",
    "\n",
    "        # Load the original data\n",
    "        ds = xr.open_dataset(file_path)\n",
    "        data = ds[var_name]\n",
    "\n",
    "        # Apply normalized areas\n",
    "        weighted_data = data.values * normalized_areas  \n",
    "\n",
    "        # Update the dataset\n",
    "        ds[var_name] = (ds[var_name].dims, weighted_data)  \n",
    "\n",
    "        # Define new file path\n",
    "        new_file_name = f\"{category}_{period_key}_weighted.nc\"\n",
    "        new_file_path = os.path.join(base_path, new_file_name)\n",
    "\n",
    "        # Save the modified dataset \n",
    "        ds.to_netcdf(new_file_path)\n",
    "\n",
    "        print(f'Processed and saved weighted data for {var_name} in {new_file_path}')\n"
   ]
  }
 ],
 "metadata": {
  "kernelspec": {
   "display_name": "jupyter_env",
   "language": "python",
   "name": "jupyter_env"
  },
  "language_info": {
   "codemirror_mode": {
    "name": "ipython",
    "version": 3
   },
   "file_extension": ".py",
   "mimetype": "text/x-python",
   "name": "python",
   "nbconvert_exporter": "python",
   "pygments_lexer": "ipython3",
   "version": "3.10.13"
  }
 },
 "nbformat": 4,
 "nbformat_minor": 5
}
