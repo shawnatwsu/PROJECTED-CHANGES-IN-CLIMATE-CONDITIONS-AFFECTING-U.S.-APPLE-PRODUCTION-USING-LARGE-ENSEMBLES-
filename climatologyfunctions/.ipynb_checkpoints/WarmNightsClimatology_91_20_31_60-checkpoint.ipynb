{
 "cells": [
  {
   "cell_type": "markdown",
   "id": "339d94c9-c478-4ac2-ae99-6a0825cca680",
   "metadata": {},
   "source": [
    "# Import necessary libraries\n"
   ]
  },
  {
   "cell_type": "code",
   "execution_count": null,
   "id": "46d2fc53-eeb5-4957-9e5a-711166a3c453",
   "metadata": {},
   "outputs": [],
   "source": [
    "import xarray as xr\n",
    "import numpy as np\n",
    "import matplotlib.pyplot as plt\n",
    "import cartopy.crs as ccrs\n",
    "import glob\n",
    "import cftime\n"
   ]
  },
  {
   "cell_type": "markdown",
   "id": "c2f162a3-be32-4e1c-ba51-d893de5052c9",
   "metadata": {},
   "source": [
    "# Define functions to process data\n"
   ]
  },
  {
   "cell_type": "code",
   "execution_count": null,
   "id": "9f0af1fe-094c-475c-ab55-812f4b70883c",
   "metadata": {},
   "outputs": [],
   "source": [
    "def count_days_above_threshold(data, threshold=15):\n",
    "    \"\"\"Count the number of days with temperatures above a certain threshold.\"\"\"\n",
    "    # Identify days where temperature is above the threshold and set others to NaN\n",
    "    days_above = data.where(data > threshold)\n",
    "    # Count non-NaN entries (i.e., days above the threshold)\n",
    "    return days_above.count(dim='time')\n"
   ]
  },
  {
   "cell_type": "code",
   "execution_count": null,
   "id": "689bb51a-2681-4def-8a40-1e7a402d5321",
   "metadata": {},
   "outputs": [],
   "source": [
    "def filter_months(data, start_month=8, end_month=9):\n",
    "    \"\"\"Filter data to include only the months from January to September.\"\"\"\n",
    "    # Filter based on the month of the time coordinate\n",
    "    return data.sel(time=data.time.dt.month.isin(range(start_month, end_month + 1)))\n"
   ]
  },
  {
   "cell_type": "code",
   "execution_count": null,
   "id": "3e0ba1a4-6465-409f-9721-4aff52b502e6",
   "metadata": {},
   "outputs": [],
   "source": [
    "def process_file(file_path, period):\n",
    "    \"\"\"Process a single NetCDF file to calculate GDD for a specified climatology period.\"\"\"\n",
    "    # Load the dataset\n",
    "    ds = xr.open_dataset(file_path, use_cftime=True)\n",
    "    # Convert TREFHT from Kelvin to Celsius\n",
    "    trefht_celsius = ds['TREFHTMN'] - 273.15\n",
    "    \n",
    "    # Adjust longitude range for CONUS and filter by months January-September\n",
    "    conus_data = trefht_celsius.sel(lon=slice(235, 295), lat=slice(25, 50))\n",
    "    conus_data = filter_months(conus_data)\n",
    "    \n",
    "    # Select data for the specified period\n",
    "    if period == '1991-2020':\n",
    "        period_data = conus_data.sel(time=slice(cftime.DatetimeNoLeap(1991, 1, 1), cftime.DatetimeNoLeap(2020, 12, 31)))\n",
    "    elif period == '2031-2060':\n",
    "        period_data = conus_data.sel(time=slice(cftime.DatetimeNoLeap(2031, 1, 1), cftime.DatetimeNoLeap(2060, 12, 31)))\n",
    "    else:\n",
    "        raise ValueError(f\"Invalid period specified: {period}\")\n",
    "\n",
    "    # Calculate GDD\n",
    "    night = count_days_above_threshold(period_data)\n",
    "    \n",
    "    return night\n"
   ]
  },
  {
   "cell_type": "markdown",
   "id": "bd7dafef-2af7-48f6-88b8-9f40e3103544",
   "metadata": {},
   "source": [
    "# Define file paths and load .nc files\n"
   ]
  },
  {
   "cell_type": "code",
   "execution_count": null,
   "id": "2cc5d282-f337-41d1-aa22-715e8b8bce03",
   "metadata": {},
   "outputs": [],
   "source": [
    "# Path to the .nc files\n",
    "nc_files_directory = '/data/project/agaid/singh_cesm_ts/cesm_tmin_concatenated/*.nc'\n",
    "nc_files = glob.glob(nc_files_directory)\n",
    "nc_files.sort()\n"
   ]
  },
  {
   "cell_type": "markdown",
   "id": "7ec508bf-eeec-4e36-9630-dbc0f6356842",
   "metadata": {},
   "source": [
    "# Process files for the first climatology period (1991-2020)\n"
   ]
  },
  {
   "cell_type": "code",
   "execution_count": null,
   "id": "bce3c219-ca01-4718-9791-93615bd185ac",
   "metadata": {},
   "outputs": [],
   "source": [
    "night_1991_2020_results = []\n",
    "for file_path in nc_files:\n",
    "    nightime = process_file(file_path, '1991-2020')\n",
    "    night_1991_2020_results.append(nightime)\n",
    "print(\"Number of Files Processed:\", len(nc_files))\n",
    "# Print the shape of gdd_1991_2020_results before calculating the ensemble mean\n",
    "print(\"Shape of night_1991_2020_results before calculating ensemble mean:\", np.shape(night_1991_2020_results))\n",
    "# Calculate ensemble mean\n",
    "ensemble_mean = np.mean(night_1991_2020_results, axis=0) / 30\n",
    "\n",
    "print(\"Ensemble Mean Array:\\n\", ensemble_mean)\n",
    "print(\"Ensemble Mean Array Shape:\", ensemble_mean.shape)\n"
   ]
  },
  {
   "cell_type": "markdown",
   "id": "388b7e57-1911-467a-8e59-d3e5f922440b",
   "metadata": {},
   "source": [
    "# Process files for the second climatology period (2031-2060)\n"
   ]
  },
  {
   "cell_type": "code",
   "execution_count": null,
   "id": "760edef2-f39b-45b7-821e-76bc85f28c6b",
   "metadata": {},
   "outputs": [],
   "source": [
    "night_2031_2060_results = []\n",
    "for file_path in nc_files:\n",
    "    nightime = process_file(file_path, '2031-2060')\n",
    "    night_2031_2060_results.append(nightime)\n",
    "# Calculate ensemble mean\n",
    "ensemble_mean_2031_2060 = np.mean(night_2031_2060_results, axis=0) / 30\n"
   ]
  },
  {
   "cell_type": "markdown",
   "id": "37f3ff8d-8fe7-442d-800c-33bf3e80eaf3",
   "metadata": {},
   "source": [
    "# Convert results to Xarray DataArrays and Datasets\n"
   ]
  },
  {
   "cell_type": "code",
   "execution_count": null,
   "id": "1c7cd972-b533-41dd-9eed-ff4351078ca8",
   "metadata": {},
   "outputs": [],
   "source": [
    "# Assuming `lat_1d` and `lon_1d` are the latitude and longitude arrays that match your GDD results\n",
    "\n",
    "# Stack the list of numpy arrays along a new 'ensemble' dimension\n",
    "night_1991_2020_da = xr.DataArray(data=np.stack(night_1991_2020_results),\n",
    "                                dims=[\"ensemble\", \"lat\", \"lon\"],\n",
    "                                coords={\"ensemble\": np.arange(len(night_1991_2020_results)),\n",
    "                                        \"lat\": lat_1d, \"lon\": lon_1d},\n",
    "                                name='night_ensemble_1991_2020')\n",
    "\n",
    "night_2031_2060_da = xr.DataArray(data=np.stack(night_2031_2060_results),\n",
    "                                dims=[\"ensemble\", \"lat\", \"lon\"],\n",
    "                                coords={\"ensemble\": np.arange(len(night_2031_2060_results)),\n",
    "                                        \"lat\": lat_1d, \"lon\": lon_1d},\n",
    "                                name='night_ensemble_2031_2060')\n",
    "\n",
    "# Convert ensemble means to DataArrays\n",
    "ensemble_mean_1991_2020_da = xr.DataArray(data=ensemble_mean,\n",
    "                                           dims=[\"lat\", \"lon\"],\n",
    "                                           coords={\"lat\": lat_1d, \"lon\": lon_1d},\n",
    "                                           name='night_ensemble_mean_1991_2020')\n",
    "\n",
    "ensemble_mean_2031_2060_da = xr.DataArray(data=ensemble_mean_2031_2060,\n",
    "                                           dims=[\"lat\", \"lon\"],\n",
    "                                           coords={\"lat\": lat_1d, \"lon\": lon_1d},\n",
    "                                           name='night_ensemble_mean_2031_2060')\n"
   ]
  },
  {
   "cell_type": "markdown",
   "id": "f6594532-96b3-42d0-b464-f743c49b4046",
   "metadata": {},
   "source": [
    "# Create Xarray Datasets with descriptive variable names\n"
   ]
  },
  {
   "cell_type": "code",
   "execution_count": null,
   "id": "f8254a63-a731-4abb-8ea5-f36806c4802a",
   "metadata": {},
   "outputs": [],
   "source": [
    "ds_1991_2020 = xr.Dataset({\"night_ensemble_1991_2020\": night_1991_2020_da,\n",
    "                           \"night_ensemble_mean_1991_2020\": ensemble_mean_1991_2020_da})\n",
    "\n",
    "ds_2031_2060 = xr.Dataset({\"night_ensemble_2031_2060\": night_2031_2060_da,\n",
    "                           \"night_ensemble_mean_2031_2060\": ensemble_mean_2031_2060_da})\n"
   ]
  },
  {
   "cell_type": "markdown",
   "id": "5a16696a-af2f-4b1a-9bdf-bf0fa41a613f",
   "metadata": {},
   "source": [
    "# Save the Datasets to NetCDF files\n"
   ]
  },
  {
   "cell_type": "code",
   "execution_count": null,
   "id": "8230f288-07ef-4885-9433-6808d4dba8f8",
   "metadata": {},
   "outputs": [],
   "source": []
  }
 ],
 "metadata": {
  "kernelspec": {
   "display_name": "jupyter_env",
   "language": "python",
   "name": "jupyter_env"
  },
  "language_info": {
   "codemirror_mode": {
    "name": "ipython",
    "version": 3
   },
   "file_extension": ".py",
   "mimetype": "text/x-python",
   "name": "python",
   "nbconvert_exporter": "python",
   "pygments_lexer": "ipython3",
   "version": "3.10.13"
  }
 },
 "nbformat": 4,
 "nbformat_minor": 5
}
