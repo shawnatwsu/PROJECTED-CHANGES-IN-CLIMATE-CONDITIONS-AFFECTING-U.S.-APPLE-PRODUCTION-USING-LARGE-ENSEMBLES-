{
 "cells": [
  {
   "cell_type": "markdown",
   "id": "bdacd941-8583-4d13-88ed-921e7ec0652b",
   "metadata": {},
   "source": [
    "# Import necessary libraries\n"
   ]
  },
  {
   "cell_type": "code",
   "execution_count": null,
   "id": "31622e79-e7fb-4d5b-bfb2-8b6d5c087900",
   "metadata": {},
   "outputs": [],
   "source": [
    "import xarray as xr\n",
    "import numpy as np\n",
    "import matplotlib.pyplot as plt\n",
    "import cartopy.crs as ccrs\n",
    "import glob\n",
    "import cftime\n"
   ]
  },
  {
   "cell_type": "markdown",
   "id": "b851fe89-3920-4d66-81c0-2b17a9e690f7",
   "metadata": {},
   "source": [
    "# Define functions to process data\n"
   ]
  },
  {
   "cell_type": "code",
   "execution_count": null,
   "id": "db89c72d-848e-4f50-9d81-01863d462ba8",
   "metadata": {},
   "outputs": [],
   "source": [
    "def calculate_gdd(data, baseline=6, max_threshold=28):\n",
    "    \"\"\"Calculate Growing Degree Days (GDD) with specified baseline and max threshold.\"\"\"\n",
    "    # Calculate daily GDD ensuring the data does not exceed the max threshold and is above the baseline\n",
    "    gdd = np.where(data > baseline, np.minimum(data, max_threshold) - baseline, 0)\n",
    "    # Sum over the 'time' dimension to get total GDD\n",
    "    return gdd.sum(axis=0)\n"
   ]
  },
  {
   "cell_type": "code",
   "execution_count": null,
   "id": "0478aa56-b56f-499d-9285-219bb0a5819b",
   "metadata": {},
   "outputs": [],
   "source": [
    "def filter_months(data, start_month=1, end_month=4):\n",
    "    \"\"\"Filter data to include only the months from January to April.\"\"\"\n",
    "    # Filter based on the month of the time coordinate\n",
    "    return data.sel(time=data.time.dt.month.isin(range(start_month, end_month + 1)))\n"
   ]
  },
  {
   "cell_type": "code",
   "execution_count": null,
   "id": "cd6fee4d-9d40-4f3f-a3bf-1bc361b3a1a9",
   "metadata": {},
   "outputs": [],
   "source": [
    "def process_file(file_path, period):\n",
    "    \"\"\"Process a single NetCDF file to calculate GDD for a specified climatology period.\"\"\"\n",
    "    # Load the dataset\n",
    "    ds = xr.open_dataset(file_path, use_cftime=True)\n",
    "    # Convert TREFHT from Kelvin to Celsius\n",
    "    trefht_celsius = ds['TREFHT'] - 273.15\n",
    "    \n",
    "    # Adjust longitude range for CONUS and filter by months January-April\n",
    "    conus_data = trefht_celsius.sel(lon=slice(235, 295), lat=slice(25, 50))\n",
    "    conus_data = filter_months(conus_data)\n",
    "    \n",
    "    # Select data for the specified period\n",
    "    if period == '1991-2020':\n",
    "        period_data = conus_data.sel(time=slice(cftime.DatetimeNoLeap(1991, 1, 1), cftime.DatetimeNoLeap(2020, 4, 30)))\n",
    "    elif period == '2031-2060':\n",
    "        period_data = conus_data.sel(time=slice(cftime.DatetimeNoLeap(2031, 1, 1), cftime.DatetimeNoLeap(2060, 4, 30)))\n",
    "    else:\n",
    "        raise ValueError(f\"Invalid period specified: {period}\")\n",
    "\n",
    "    # Calculate GDD\n",
    "    gdd = calculate_gdd(period_data)\n",
    "    \n",
    "    return gdd\n"
   ]
  },
  {
   "cell_type": "markdown",
   "id": "1eaf8c8e-ea8d-4cc3-bad4-d2a07035f18f",
   "metadata": {},
   "source": [
    "# Define file paths and load .nc files\n"
   ]
  },
  {
   "cell_type": "code",
   "execution_count": null,
   "id": "ad5900e6-f426-4ece-b708-d34d13d83945",
   "metadata": {},
   "outputs": [],
   "source": [
    "# Path to the .nc files\n",
    "nc_files_directory = '/data/project/agaid/singh_cesm_ts/cesm_ts_concatenated/*.nc'\n",
    "nc_files = glob.glob(nc_files_directory)\n",
    "nc_files.sort()\n"
   ]
  },
  {
   "cell_type": "markdown",
   "id": "4972484e-9e18-4432-b88a-96d27de41a3e",
   "metadata": {},
   "source": [
    "# Process files for the first climatology period (1991-2020)\n"
   ]
  },
  {
   "cell_type": "code",
   "execution_count": null,
   "id": "15943fd3-8701-47d2-8aee-973cf7ac7d49",
   "metadata": {},
   "outputs": [],
   "source": [
    "gdd_1991_2020_results = []\n",
    "for file_path in nc_files:\n",
    "    gdd = process_file(file_path, '1991-2020')\n",
    "    gdd_1991_2020_results.append(gdd)\n",
    "# Calculate ensemble mean\n",
    "ensemble_mean = np.mean(gdd_1991_2020_results, axis=0) / 30\n"
   ]
  },
  {
   "cell_type": "markdown",
   "id": "bc90ca43-5324-4d82-83c9-3b92510d8a0d",
   "metadata": {},
   "source": [
    "# Process files for the second climatology period (2031-2060)\n"
   ]
  },
  {
   "cell_type": "code",
   "execution_count": null,
   "id": "fb09a65f-033f-40c0-ab57-43217bd3b932",
   "metadata": {},
   "outputs": [],
   "source": [
    "gdd_2031_2060_results = []\n",
    "for file_path in nc_files:\n",
    "    gdd = process_file(file_path, '2031-2060')\n",
    "    gdd_2031_2060_results.append(gdd)\n",
    "# Calculate ensemble mean\n",
    "ensemble_mean_2031_2060 = np.mean(gdd_2031_2060_results, axis=0) / 30\n"
   ]
  },
  {
   "cell_type": "markdown",
   "id": "7f2e6e36-abec-4b5f-8ed3-f0043d6ccde3",
   "metadata": {},
   "source": [
    "# Convert results to Xarray DataArrays and Datasets\n"
   ]
  },
  {
   "cell_type": "code",
   "execution_count": null,
   "id": "746ce0a2-b022-47f0-a9c5-abbfe8a2b71f",
   "metadata": {},
   "outputs": [],
   "source": [
    "# Assuming `lat_1d` and `lon_1d` are the latitude and longitude arrays that match your GDD results\n",
    "\n",
    "# Stack the list of numpy arrays along a new 'ensemble' dimension\n",
    "gdd_1991_2020_da = xr.DataArray(data=np.stack(gdd_1991_2020_results),\n",
    "                                dims=[\"ensemble\", \"lat\", \"lon\"],\n",
    "                                coords={\"ensemble\": np.arange(len(gdd_1991_2020_results)),\n",
    "                                        \"lat\": lat_1d, \"lon\": lon_1d},\n",
    "                                name='gdd_ensemble_1991_2020')\n",
    "\n",
    "gdd_2031_2060_da = xr.DataArray(data=np.stack(gdd_2031_2060_results),\n",
    "                                dims=[\"ensemble\", \"lat\", \"lon\"],\n",
    "                                coords={\"ensemble\": np.arange(len(gdd_2031_2060_results)),\n",
    "                                        \"lat\": lat_1d, \"lon\": lon_1d},\n",
    "                                name='gdd_ensemble_2031_2060')\n",
    "\n",
    "# Convert ensemble means to DataArrays\n",
    "ensemble_mean_1991_2020_da = xr.DataArray(data=ensemble_mean,\n",
    "                                           dims=[\"lat\", \"lon\"],\n",
    "                                           coords={\"lat\": lat_1d, \"lon\": lon_1d},\n",
    "                                           name='gdd_ensemble_mean_1991_2020')\n",
    "\n",
    "ensemble_mean_2031_2060_da = xr.DataArray(data=ensemble_mean_2031_2060,\n",
    "                                           dims=[\"lat\", \"lon\"],\n",
    "                                           coords={\"lat\": lat_1d, \"lon\": lon_1d},\n",
    "                                           name='gdd_ensemble_mean_2031_2060')\n"
   ]
  },
  {
   "cell_type": "markdown",
   "id": "392a4aeb-0a49-468e-a32a-306f17e901ae",
   "metadata": {},
   "source": [
    "# Create Xarray Datasets with descriptive variable names\n"
   ]
  },
  {
   "cell_type": "code",
   "execution_count": null,
   "id": "2db55b34-03bc-4d67-8494-69e3ead20190",
   "metadata": {},
   "outputs": [],
   "source": [
    "ds_1991_2020 = xr.Dataset({\"gdd_ensemble_1991_2020\": gdd_1991_2020_da,\n",
    "                           \"gdd_ensemble_mean_1991_2020\": ensemble_mean_1991_2020_da})\n",
    "\n",
    "ds_2031_2060 = xr.Dataset({\"gdd_ensemble_2031_2060\": gdd_2031_2060_da,\n",
    "                           \"gdd_ensemble_mean_2031_2060\": ensemble_mean_2031_2060_da})\n"
   ]
  },
  {
   "cell_type": "markdown",
   "id": "688e76f8-69c3-4d40-9777-aa3024290273",
   "metadata": {},
   "source": [
    "# Save the Datasets to NetCDF files\n"
   ]
  },
  {
   "cell_type": "code",
   "execution_count": null,
   "id": "8df77ef8-80ef-4eeb-b347-5500b29329f7",
   "metadata": {},
   "outputs": [],
   "source": [
    "output_path_1991_2020 = \"/home/shawn_preston/gddcesm2janapr/GDD_1991_2020.nc\"\n",
    "output_path_2031_2060 = \"/home/shawn_preston/gddcesm2janapr/GDD_2031_2060.nc\"\n",
    "\n",
    "ds_1991_2020.to_netcdf(output_path_1991_2020)\n",
    "ds_2031_2060.to_netcdf(output_path_2031_2060)\n"
   ]
  }
 ],
 "metadata": {
  "kernelspec": {
   "display_name": "jupyter_env",
   "language": "python",
   "name": "jupyter_env"
  },
  "language_info": {
   "codemirror_mode": {
    "name": "ipython",
    "version": 3
   },
   "file_extension": ".py",
   "mimetype": "text/x-python",
   "name": "python",
   "nbconvert_exporter": "python",
   "pygments_lexer": "ipython3",
   "version": "3.10.13"
  }
 },
 "nbformat": 4,
 "nbformat_minor": 5
}
