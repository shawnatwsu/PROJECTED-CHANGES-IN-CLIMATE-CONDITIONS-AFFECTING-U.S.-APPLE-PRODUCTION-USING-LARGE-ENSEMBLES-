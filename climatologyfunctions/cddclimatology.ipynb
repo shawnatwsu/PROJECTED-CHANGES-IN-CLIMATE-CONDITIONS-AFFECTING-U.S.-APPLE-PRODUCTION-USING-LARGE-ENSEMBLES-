{
 "cells": [
  {
   "cell_type": "markdown",
   "id": "26d1f122-8d3a-4010-bae9-247d63c4d503",
   "metadata": {},
   "source": [
    "# Import necessary libraries\n"
   ]
  },
  {
   "cell_type": "code",
   "execution_count": null,
   "id": "e1d7038c-1f18-457b-a481-80e94bc3633b",
   "metadata": {},
   "outputs": [],
   "source": [
    "import xarray as xr\n",
    "import numpy as np\n",
    "import glob\n",
    "import cftime\n",
    "import geopandas as gpd\n"
   ]
  },
  {
   "cell_type": "markdown",
   "id": "7267a833-b7c9-4356-85ff-e9c4414c7e65",
   "metadata": {},
   "source": [
    "# Define helper functions for data processing\n"
   ]
  },
  {
   "cell_type": "code",
   "execution_count": null,
   "id": "f615b713-9860-4d09-9607-1283fc998427",
   "metadata": {},
   "outputs": [],
   "source": [
    "def filter_months(data, start_month=11, end_month=3):\n",
    "    \"\"\"\n",
    "    Filter data to include only the months from November to March.\n",
    "\n",
    "    Parameters:\n",
    "    data (xarray.DataArray): The input data array with a time dimension.\n",
    "    start_month (int): The starting month (inclusive).\n",
    "    end_month (int): The ending month (inclusive).\n",
    "\n",
    "    Returns:\n",
    "    xarray.DataArray: Data array filtered to include only the specified months.\n",
    "    \"\"\"\n",
    "    # Handling the case where the period spans over the year end\n",
    "    if start_month > end_month:\n",
    "        months = list(range(start_month, 13)) + list(range(1, end_month + 1))\n",
    "    else:\n",
    "        months = list(range(start_month, end_month + 1))\n",
    "    return data.sel(time=data.time.dt.month.isin(months))\n"
   ]
  },
  {
   "cell_type": "code",
   "execution_count": null,
   "id": "1fccad1e-7a3f-404e-84c9-6f3580a0ef54",
   "metadata": {},
   "outputs": [],
   "source": [
    "def calculate_days_below_threshold(data):\n",
    "    \"\"\"\n",
    "    Calculate chilling degree days (CDD) with temperatures below zero.\n",
    "\n",
    "    Parameters:\n",
    "    data (xarray.DataArray): The input temperature data array in Kelvin.\n",
    "\n",
    "    Returns:\n",
    "    xarray.DataArray: Annual average chilling degree days.\n",
    "    \"\"\"\n",
    "    # Calculate degree days where temperature is below zero\n",
    "    cdd = xr.where(data < 0, -data, 0)\n",
    "    # Sum degree days per year\n",
    "    annual_cdd = cdd.resample(time='AS').sum()\n",
    "    # Average over the years\n",
    "    return annual_cdd.mean(dim='time')\n"
   ]
  },
  {
   "cell_type": "code",
   "execution_count": null,
   "id": "7a96430f-b784-48cc-9bcd-47f211241129",
   "metadata": {},
   "outputs": [],
   "source": [
    "def process_file(file_path, start_year, end_year):\n",
    "    \"\"\"\n",
    "    Process a single NetCDF file to calculate the climatology of days below a threshold.\n",
    "\n",
    "    Parameters:\n",
    "    file_path (str): The path to the NetCDF file.\n",
    "    start_year (int): The starting year of the period.\n",
    "    end_year (int): The ending year of the period.\n",
    "\n",
    "    Returns:\n",
    "    xarray.DataArray: The climatology of days below the threshold.\n",
    "    \"\"\"\n",
    "    ds = xr.open_dataset(file_path, use_cftime=True)\n",
    "    \n",
    "    # Convert TREFHT from Kelvin to Celsius\n",
    "    trefht_celsius = ds['TREFHT'] - 273.15\n",
    "    \n",
    "    # Adjust longitude range for CONUS and filter by months November-March\n",
    "    conus_data = trefht_celsius.sel(lon=slice(235, 295), lat=slice(25, 50))\n",
    "    conus_data = filter_months(conus_data)\n",
    "    \n",
    "    # Select data for the specified period\n",
    "    period_data = conus_data.sel(time=slice(cftime.DatetimeNoLeap(start_year, 1, 1), cftime.DatetimeNoLeap(end_year, 12, 31)))\n",
    "    \n",
    "    # Calculate days below the threshold\n",
    "    days_below_threshold_climatology = calculate_days_below_threshold(period_data)\n",
    "    \n",
    "    return days_below_threshold_climatology\n"
   ]
  },
  {
   "cell_type": "markdown",
   "id": "e9c94dad-1ac2-4af6-b4e0-f17b7d191d0c",
   "metadata": {},
   "source": [
    "# Define file paths and periods for analysis\n"
   ]
  },
  {
   "cell_type": "code",
   "execution_count": null,
   "id": "8baf64fd-b377-452f-af8b-63d9a04e59b5",
   "metadata": {},
   "outputs": [],
   "source": [
    "# Path to the .nc files\n",
    "nc_files_directory = '/data/project/agaid/singh_cesm_ts/cesm_ts_concatenated/*.nc'\n",
    "nc_files = glob.glob(nc_files_directory)\n",
    "nc_files.sort()\n",
    "\n",
    "# Define periods\n",
    "start_year_1991_2020, end_year_1991_2020 = 1991, 2020\n",
    "start_year_2031_2060, end_year_2031_2060 = 2031, 2060\n"
   ]
  },
  {
   "cell_type": "markdown",
   "id": "e08d88e6-f146-463f-9b89-0240051d15fd",
   "metadata": {},
   "source": [
    "# Process files for the climatology period 1991-2020\n"
   ]
  },
  {
   "cell_type": "code",
   "execution_count": null,
   "id": "a638bb65-a8be-4bfb-8d68-43d8a753c88c",
   "metadata": {},
   "outputs": [],
   "source": [
    "days_below_threshold_1991_2020_results = [process_file(file, start_year_1991_2020, end_year_1991_2020) for file in nc_files]\n"
   ]
  },
  {
   "cell_type": "markdown",
   "id": "fbd0a72e-b0b6-435a-8ad8-8c28bfb52f71",
   "metadata": {},
   "source": [
    "# Calculate the ensemble mean climatology for 1991-2020\n"
   ]
  },
  {
   "cell_type": "code",
   "execution_count": null,
   "id": "87fc9dd7-5b60-4c85-8106-36356dfbe778",
   "metadata": {},
   "outputs": [],
   "source": [
    "ensemble_mean_1991_2020 = np.mean(np.array(days_below_threshold_1991_2020_results), axis=0)\n"
   ]
  },
  {
   "cell_type": "markdown",
   "id": "9b0d368e-62d4-41a6-9d20-1cf4a254d1df",
   "metadata": {},
   "source": [
    "# Process files for the climatology period 2031-2060\n"
   ]
  },
  {
   "cell_type": "code",
   "execution_count": null,
   "id": "46966eb9-ed6f-4553-aaee-7017316748b1",
   "metadata": {},
   "outputs": [],
   "source": [
    "days_below_threshold_2031_2060_results = [process_file(file, start_year_2031_2060, end_year_2031_2060) for file in nc_files]\n"
   ]
  },
  {
   "cell_type": "markdown",
   "id": "20f916a7-5aec-49e4-b5ad-d4bf4e18edb5",
   "metadata": {},
   "source": [
    "# Calculate the ensemble mean climatology for 2031-2060\n"
   ]
  },
  {
   "cell_type": "code",
   "execution_count": null,
   "id": "53d3418a-f8d2-4c13-942c-cf79276fbf86",
   "metadata": {},
   "outputs": [],
   "source": [
    "ensemble_mean_2031_2060 = np.mean(np.array(days_below_threshold_2031_2060_results), axis=0)\n"
   ]
  },
  {
   "cell_type": "markdown",
   "id": "7ea0d4ae-a4df-4f5c-9f3a-7dcf6f71c9c2",
   "metadata": {},
   "source": [
    "# Create Xarray DataArrays for ensemble results and means\n"
   ]
  },
  {
   "cell_type": "code",
   "execution_count": null,
   "id": "cc344ccf-9b8a-47dc-9c50-58fcb61ea369",
   "metadata": {},
   "outputs": [],
   "source": [
    "# Assuming 'lat' and 'lon' are the latitude and longitude coordinates from your data\n",
    "lat = days_below_threshold_1991_2020_results[0].lat.values\n",
    "lon = days_below_threshold_1991_2020_results[0].lon.values\n",
    "\n",
    "# Creating DataArrays\n",
    "days_below_threshold_1991_2020_da = xr.DataArray(\n",
    "    np.stack(days_below_threshold_1991_2020_results),\n",
    "    dims=[\"ensemble\", \"lat\", \"lon\"],\n",
    "    coords={\"ensemble\": np.arange(len(days_below_threshold_1991_2020_results)), \"lat\": lat, \"lon\": lon},\n",
    "    name='days_below_0_ensemble_1991_2020'\n",
    ")\n",
    "\n",
    "days_below_threshold_2031_2060_da = xr.DataArray(\n",
    "    np.stack(days_below_threshold_2031_2060_results),\n",
    "    dims=[\"ensemble\", \"lat\", \"lon\"],\n",
    "    coords={\"ensemble\": np.arange(len(days_below_threshold_2031_2060_results)), \"lat\": lat, \"lon\": lon},\n",
    "    name='days_below_0_ensemble_2031_2060'\n",
    ")\n",
    "\n",
    "ensemble_mean_1991_2020_da = xr.DataArray(\n",
    "    ensemble_mean_1991_2020,\n",
    "    dims=[\"lat\", \"lon\"],\n",
    "    coords={\"lat\": lat, \"lon\": lon},\n",
    "    name='days_below_0_ensemble_mean_1991_2020'\n",
    ")\n",
    "\n",
    "ensemble_mean_2031_2060_da = xr.DataArray(\n",
    "    ensemble_mean_2031_2060,\n",
    "    dims=[\"lat\", \"lon\"],\n",
    "    coords={\"lat\": lat, \"lon\": lon},\n",
    "    name='days_below_0_ensemble_mean_2031_2060'\n",
    ")\n"
   ]
  },
  {
   "cell_type": "markdown",
   "id": "d619bcad-42ff-48e8-80cd-1e8709a0d0b3",
   "metadata": {},
   "source": [
    "# Create Xarray Datasets with descriptive variable names\n"
   ]
  },
  {
   "cell_type": "code",
   "execution_count": null,
   "id": "8b28003c-2577-4448-a60d-e98c5bde9683",
   "metadata": {},
   "outputs": [],
   "source": [
    "ds_1991_2020 = xr.Dataset({\n",
    "    \"days_below_0_ensemble_1991_2020\": days_below_threshold_1991_2020_da,\n",
    "    \"days_below_0_ensemble_mean_1991_2020\": ensemble_mean_1991_2020_da\n",
    "})\n",
    "\n",
    "ds_2031_2060 = xr.Dataset({\n",
    "    \"days_below_0_ensemble_2031_2060\": days_below_threshold_2031_2060_da,\n",
    "    \"days_below_0_ensemble_mean_2031_2060\": ensemble_mean_2031_2060_da\n",
    "})\n"
   ]
  },
  {
   "cell_type": "markdown",
   "id": "c2705b81-32bc-4cb8-ae84-38f3379f29a9",
   "metadata": {},
   "source": [
    "# Save the Datasets to NetCDF files\n"
   ]
  },
  {
   "cell_type": "code",
   "execution_count": null,
   "id": "f688b106-1c94-488c-a149-a7447a8089c0",
   "metadata": {},
   "outputs": [],
   "source": [
    "output_path_1991_2020 = \"/home/shawn_preston/daysbelow0ensemble/tavgdaysbelow0_1991_2020.nc\"\n",
    "output_path_2031_2060 = \"/home/shawn_preston/daysbelow0ensemble/tavgdaysbelow0_2031_2060.nc\"\n",
    "\n",
    "ds_1991_2020.to_netcdf(output_path_1991_2020)\n",
    "ds_2031_2060.to_netcdf(output_path_2031_2060)\n"
   ]
  }
 ],
 "metadata": {
  "kernelspec": {
   "display_name": "jupyter_env",
   "language": "python",
   "name": "jupyter_env"
  },
  "language_info": {
   "codemirror_mode": {
    "name": "ipython",
    "version": 3
   },
   "file_extension": ".py",
   "mimetype": "text/x-python",
   "name": "python",
   "nbconvert_exporter": "python",
   "pygments_lexer": "ipython3",
   "version": "3.10.13"
  }
 },
 "nbformat": 4,
 "nbformat_minor": 5
}
