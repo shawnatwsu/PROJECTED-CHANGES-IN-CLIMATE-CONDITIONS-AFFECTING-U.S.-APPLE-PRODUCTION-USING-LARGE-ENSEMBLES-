{
 "cells": [
  {
   "cell_type": "markdown",
   "id": "60341bd5-76bf-4d59-b7e1-0ca2452e1d23",
   "metadata": {},
   "source": [
    "# Import necessary libraries\n"
   ]
  },
  {
   "cell_type": "code",
   "execution_count": null,
   "id": "06b804c0-6ef5-4c69-9679-2530583c8237",
   "metadata": {},
   "outputs": [],
   "source": [
    "import xarray as xr\n",
    "import numpy as np\n",
    "import matplotlib.pyplot as plt\n",
    "import cartopy.crs as ccrs\n",
    "import glob\n",
    "import cftime\n"
   ]
  },
  {
   "cell_type": "markdown",
   "id": "c72e5ca1-ffea-4cab-a3a1-46b7174acb93",
   "metadata": {},
   "source": [
    "# Define functions to process data\n"
   ]
  },
  {
   "cell_type": "code",
   "execution_count": null,
   "id": "36e3264f-8923-426c-aaa2-b9c37d08fbd4",
   "metadata": {},
   "outputs": [],
   "source": [
    "def count_days_above_threshold(data, threshold=34):\n",
    "    \"\"\"Count the number of days with temperatures above a certain threshold.\"\"\"\n",
    "    # Identify days where temperature is above the threshold and set others to NaN\n",
    "    days_above = data.where(data > threshold)\n",
    "    # Count non-NaN entries (i.e., days above the threshold)\n",
    "    return days_above.count(dim='time')\n"
   ]
  },
  {
   "cell_type": "code",
   "execution_count": null,
   "id": "f5d1ae62-44c5-45ce-86b1-b41790eeb1e7",
   "metadata": {},
   "outputs": [],
   "source": [
    "def filter_months(data, start_month=6, end_month=8):\n",
    "    \"\"\"Filter data to include only the months from June to August.\"\"\"\n",
    "    # Filter based on the month of the time coordinate\n",
    "    return data.sel(time=data.time.dt.month.isin(range(start_month, end_month + 1)))\n"
   ]
  },
  {
   "cell_type": "code",
   "execution_count": null,
   "id": "058164dd-b32c-47b0-89da-f47de7766641",
   "metadata": {},
   "outputs": [],
   "source": [
    "def process_file(file_path, period):\n",
    "    \"\"\"Process a single NetCDF file to calculate GDD for a specified climatology period.\"\"\"\n",
    "    # Load the dataset\n",
    "    ds = xr.open_dataset(file_path, use_cftime=True)\n",
    "    # Convert TREFHT from Kelvin to Celsius\n",
    "    trefht_celsius = ds['TREFHTMX'] - 273.15\n",
    "    \n",
    "    # Adjust longitude range for CONUS and filter by months June-August\n",
    "    conus_data = trefht_celsius.sel(lon=slice(235, 295), lat=slice(25, 50))\n",
    "    conus_data = filter_months(conus_data)\n",
    "    \n",
    "    # Select data for the specified period\n",
    "    if period == '1991-2020':\n",
    "        period_data = conus_data.sel(time=slice(cftime.DatetimeNoLeap(1991, 1, 1), cftime.DatetimeNoLeap(2020, 12, 31)))\n",
    "    elif period == '2031-2060':\n",
    "        period_data = conus_data.sel(time=slice(cftime.DatetimeNoLeap(2031, 1, 1), cftime.DatetimeNoLeap(2060, 12, 31)))\n",
    "    else:\n",
    "        raise ValueError(f\"Invalid period specified: {period}\")\n",
    "\n",
    "    # Calculate GDD\n",
    "    night = count_days_above_threshold(period_data)\n",
    "    \n",
    "    return night\n"
   ]
  },
  {
   "cell_type": "markdown",
   "id": "7df638ad-711f-4ede-aea7-fcc4d79f7840",
   "metadata": {},
   "source": [
    "# Define file paths and load .nc files\n"
   ]
  },
  {
   "cell_type": "code",
   "execution_count": null,
   "id": "4d1fd271-938d-4399-acfd-859b0104b5d5",
   "metadata": {},
   "outputs": [],
   "source": [
    "# Path to the .nc files\n",
    "nc_files_directory = '/data/project/agaid/singh_cesm_ts/cesm_tmax_concatenated/*.nc'\n",
    "nc_files = glob.glob(nc_files_directory)\n",
    "nc_files.sort()\n"
   ]
  },
  {
   "cell_type": "markdown",
   "id": "2773b67b-5ab8-4278-9a9d-596366f8aae9",
   "metadata": {},
   "source": [
    "# Process files for the first climatology period (1991-2020)\n"
   ]
  },
  {
   "cell_type": "code",
   "execution_count": null,
   "id": "856d044f-fd3d-4485-b361-cb83fe1edbc5",
   "metadata": {},
   "outputs": [],
   "source": [
    "night_1991_2020_results = []\n",
    "for file_path in nc_files:\n",
    "    nightime = process_file(file_path, '1991-2020')\n",
    "    night_1991_2020_results.append(nightime)\n",
    "print(\"Number of Files Processed:\", len(nc_files))\n",
    "# Print the shape of gdd_1991_2020_results before calculating the ensemble mean\n",
    "print(\"Shape of night_1991_2020_results before calculating ensemble mean:\", np.shape(night_1991_2020_results))\n",
    "# Calculate ensemble mean\n",
    "ensemble_mean = np.mean(night_1991_2020_results, axis=0) / 30\n",
    "\n",
    "print(\"Ensemble Mean Array:\\n\", ensemble_mean)\n",
    "print(\"Ensemble Mean Array Shape:\", ensemble_mean.shape)\n"
   ]
  },
  {
   "cell_type": "markdown",
   "id": "e2a941c8-1b4f-41d1-8f5a-6a45474dcd11",
   "metadata": {},
   "source": [
    "# Process files for the second climatology period (2031-2060)\n"
   ]
  },
  {
   "cell_type": "code",
   "execution_count": null,
   "id": "9004b00a-6a76-468b-a154-b6e5b731ba5e",
   "metadata": {},
   "outputs": [],
   "source": [
    "night_2031_2060_results = []\n",
    "for file_path in nc_files:\n",
    "    nightime = process_file(file_path, '2031-2060')\n",
    "    night_2031_2060_results.append(nightime)\n",
    "# Calculate ensemble mean\n",
    "ensemble_mean_2031_2060 = np.mean(night_2031_2060_results, axis=0) / 30\n"
   ]
  },
  {
   "cell_type": "markdown",
   "id": "d41172fa-0da7-43e8-8b3e-edc326742d38",
   "metadata": {},
   "source": [
    "# Convert results to Xarray DataArrays and Datasets\n"
   ]
  },
  {
   "cell_type": "code",
   "execution_count": null,
   "id": "3c444b66-0b1a-4e50-85d7-5f54aafdf6d7",
   "metadata": {},
   "outputs": [],
   "source": [
    "# Assuming `lat_1d` and `lon_1d` are the latitude and longitude arrays that match your GDD results\n",
    "\n",
    "# Stack the list of numpy arrays along a new 'ensemble' dimension\n",
    "night_1991_2020_da = xr.DataArray(data=np.stack(night_1991_2020_results),\n",
    "                                dims=[\"ensemble\", \"lat\", \"lon\"],\n",
    "                                coords={\"ensemble\": np.arange(len(night_1991_2020_results)),\n",
    "                                        \"lat\": lat_1d, \"lon\": lon_1d},\n",
    "                                name='heat_ensemble_1991_2020')\n",
    "\n",
    "night_2031_2060_da = xr.DataArray(data=np.stack(night_2031_2060_results),\n",
    "                                dims=[\"ensemble\", \"lat\", \"lon\"],\n",
    "                                coords={\"ensemble\": np.arange(len(night_2031_2060_results)),\n",
    "                                        \"lat\": lat_1d, \"lon\": lon_1d},\n",
    "                                name='heat_ensemble_2031_2060')\n",
    "\n",
    "# Convert ensemble means to DataArrays\n",
    "ensemble_mean_1991_2020_da = xr.DataArray(data=ensemble_mean,\n",
    "                                           dims=[\"lat\", \"lon\"],\n",
    "                                           coords={\"lat\": lat_1d, \"lon\": lon_1d},\n",
    "                                           name='heat_ensemble_mean_1991_2020')\n",
    "\n",
    "ensemble_mean_2031_2060_da = xr.DataArray(data=ensemble_mean_2031_2060,\n",
    "                                           dims=[\"lat\", \"lon\"],\n",
    "                                           coords={\"lat\": lat_1d, \"lon\": lon_1d},\n",
    "                                           name='heat_ensemble_mean_2031_2060')\n"
   ]
  },
  {
   "cell_type": "markdown",
   "id": "67ac16ad-58f6-4a40-a515-d027e8f81123",
   "metadata": {},
   "source": [
    "# Create Xarray Datasets with descriptive variable names\n"
   ]
  },
  {
   "cell_type": "code",
   "execution_count": null,
   "id": "9ac835d1-0f85-4073-9267-dfd17d341952",
   "metadata": {},
   "outputs": [],
   "source": [
    "ds_1991_2020 = xr.Dataset({\"heat_ensemble_1991_2020\": night_1991_2020_da,\n",
    "                           \"heat_ensemble_mean_1991_2020\": ensemble_mean_1991_2020_da})\n",
    "\n",
    "ds_2031_2060 = xr.Dataset({\"heat_ensemble_2031_2060\": night_2031_2060_da,\n",
    "                           \"heat_ensemble_mean_2031_2060\": ensemble_mean_2031_2060_da})\n"
   ]
  },
  {
   "cell_type": "markdown",
   "id": "01630989-a7a7-4b6d-ae28-9d037b6dc542",
   "metadata": {},
   "source": [
    "# Save the Datasets to NetCDF files\n"
   ]
  },
  {
   "cell_type": "code",
   "execution_count": null,
   "id": "9c7aa23e-15fb-4e34-870d-02820f353ea0",
   "metadata": {},
   "outputs": [],
   "source": [
    "output_path_1991_2020 = \"/home/shawn_preston/tmax34ensemble/tmax1591_20.nc\"\n",
    "output_path_2031_2060 = \"/home/shawn_preston/tmax34ensemble/tmax1531_60.nc\"\n",
    "\n",
    "ds_1991_2020.to_netcdf(output_path_1991_2020)\n",
    "ds_2031_2060.to_netcdf(output_path_2031_2060)\n"
   ]
  },
  {
   "cell_type": "code",
   "execution_count": null,
   "id": "05a0c6e0-6214-4357-afed-f3f5ab36959d",
   "metadata": {},
   "outputs": [],
   "source": []
  },
  {
   "cell_type": "code",
   "execution_count": null,
   "id": "5208c323-c5a9-4ad6-af68-f7a1db867012",
   "metadata": {},
   "outputs": [],
   "source": []
  }
 ],
 "metadata": {
  "kernelspec": {
   "display_name": "jupyter_env",
   "language": "python",
   "name": "jupyter_env"
  },
  "language_info": {
   "codemirror_mode": {
    "name": "ipython",
    "version": 3
   },
   "file_extension": ".py",
   "mimetype": "text/x-python",
   "name": "python",
   "nbconvert_exporter": "python",
   "pygments_lexer": "ipython3",
   "version": "3.10.13"
  }
 },
 "nbformat": 4,
 "nbformat_minor": 5
}
