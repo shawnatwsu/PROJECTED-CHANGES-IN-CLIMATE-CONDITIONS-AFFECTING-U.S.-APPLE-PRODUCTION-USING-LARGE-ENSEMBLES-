{
 "cells": [
  {
   "cell_type": "markdown",
   "id": "95d5c22b-21db-467d-925e-d92495bad1ca",
   "metadata": {},
   "source": [
    "# Import necessary libraries\n"
   ]
  },
  {
   "cell_type": "code",
   "execution_count": null,
   "id": "4e5339b2-702c-4a5d-9e25-226022d02654",
   "metadata": {},
   "outputs": [],
   "source": [
    "import xarray as xr\n",
    "import numpy as np\n",
    "import matplotlib.pyplot as plt\n",
    "import cartopy.crs as ccrs\n",
    "import glob\n",
    "import cftime\n"
   ]
  },
  {
   "cell_type": "markdown",
   "id": "84cef07f-e44c-4092-b20e-42b6c045e89f",
   "metadata": {},
   "source": [
    "# Define functions to process data\n"
   ]
  },
  {
   "cell_type": "code",
   "execution_count": null,
   "id": "b092fa42-2b58-46fd-926a-b2f9fba34e08",
   "metadata": {},
   "outputs": [],
   "source": [
    "def calculate_gdd(data, baseline=6, max_threshold=28):\n",
    "    \"\"\"Calculate Growing Degree Days (GDD) with specified baseline and max threshold.\"\"\"\n",
    "    # Calculate daily GDD ensuring the data does not exceed the max threshold and is above the baseline\n",
    "    gdd = np.where(data > baseline, np.minimum(data, max_threshold) - baseline, 0)\n",
    "    # Sum over the 'time' dimension to get total GDD\n",
    "    return gdd.sum(axis=0)\n"
   ]
  },
  {
   "cell_type": "code",
   "execution_count": null,
   "id": "f2627e25-a044-4eca-a5d1-1f008a5d372a",
   "metadata": {},
   "outputs": [],
   "source": [
    "def filter_months(data, start_month=1, end_month=9):\n",
    "    \"\"\"Filter data to include only the months from January to September.\"\"\"\n",
    "    # Filter based on the month of the time coordinate\n",
    "    return data.sel(time=data.time.dt.month.isin(range(start_month, end_month + 1)))\n"
   ]
  },
  {
   "cell_type": "code",
   "execution_count": null,
   "id": "d7a77ac2-4cbf-43cc-862a-ac5f48264514",
   "metadata": {},
   "outputs": [],
   "source": [
    "def process_file(file_path, period):\n",
    "    \"\"\"Process a single NetCDF file to calculate GDD for a specified climatology period.\"\"\"\n",
    "    # Load the dataset\n",
    "    ds = xr.open_dataset(file_path, use_cftime=True)\n",
    "    # Convert TREFHT from Kelvin to Celsius\n",
    "    trefht_celsius = ds['TREFHT'] - 273.15\n",
    "    \n",
    "    # Adjust longitude range for CONUS and filter by months January-September\n",
    "    conus_data = trefht_celsius.sel(lon=slice(235, 295), lat=slice(25, 50))\n",
    "    conus_data = filter_months(conus_data)\n",
    "    \n",
    "    # Select data for the specified period\n",
    "    if period == '1991-2020':\n",
    "        period_data = conus_data.sel(time=slice(cftime.DatetimeNoLeap(1991, 1, 1), cftime.DatetimeNoLeap(2020, 12, 31)))\n",
    "    elif period == '2031-2060':\n",
    "        period_data = conus_data.sel(time=slice(cftime.DatetimeNoLeap(2031, 1, 1), cftime.DatetimeNoLeap(2060, 12, 31)))\n",
    "    else:\n",
    "        raise ValueError(f\"Invalid period specified: {period}\")\n",
    "\n",
    "    # Calculate GDD\n",
    "    gdd = calculate_gdd(period_data)\n",
    "    \n",
    "    return gdd\n"
   ]
  },
  {
   "cell_type": "markdown",
   "id": "e91de59c-461b-4c90-8bb6-4dd5f81d4164",
   "metadata": {},
   "source": [
    "# Define file paths and load .nc files\n"
   ]
  },
  {
   "cell_type": "code",
   "execution_count": null,
   "id": "080bec66-7f7c-4589-83b6-80b520dc15f1",
   "metadata": {},
   "outputs": [],
   "source": [
    "# Path to the .nc files\n",
    "nc_files_directory = '/data/project/agaid/singh_cesm_ts/cesm_ts_concatenated/*.nc'\n",
    "nc_files = glob.glob(nc_files_directory)\n",
    "nc_files.sort()\n"
   ]
  },
  {
   "cell_type": "markdown",
   "id": "daeb3d2c-1662-47ce-9451-cb14bd162ec1",
   "metadata": {},
   "source": [
    "# Process files for the first climatology period (1991-2020)\n"
   ]
  },
  {
   "cell_type": "code",
   "execution_count": null,
   "id": "9726586f-230d-421f-9160-392880ecaea3",
   "metadata": {},
   "outputs": [],
   "source": [
    "gdd_1991_2020_results = []\n",
    "for file_path in nc_files:\n",
    "    gdd = process_file(file_path, '1991-2020')\n",
    "    gdd_1991_2020_results.append(gdd)\n",
    "# Verifying all files are processed (only used cmip6)\n",
    "print(\"Number of Files Processed:\", len(nc_files))\n",
    "# Print the shape of gdd_1991_2020_results before calculating the ensemble mean\n",
    "print(\"Shape of gdd_1991_2020_results before calculating ensemble mean:\", np.shape(gdd_1991_2020_results))\n",
    "# Getting the mean and dividing it by 30 since we want 1 value over our climatology\n",
    "# Calculate ensemble mean\n",
    "ensemble_mean = np.mean(gdd_1991_2020_results, axis=0) / 30\n",
    "\n",
    "print(\"Ensemble Mean Array:\\n\", ensemble_mean)\n",
    "print(\"Ensemble Mean Array Shape:\", ensemble_mean.shape)\n"
   ]
  },
  {
   "cell_type": "markdown",
   "id": "f33a3045-309e-4ab8-8ad1-8dffaf370be3",
   "metadata": {},
   "source": [
    "# Process files for the second climatology period (2031-2060)\n"
   ]
  },
  {
   "cell_type": "code",
   "execution_count": null,
   "id": "1b0c9d55-e9e2-4c47-952f-2402522b174f",
   "metadata": {},
   "outputs": [],
   "source": [
    "gdd_2031_2060_results = []\n",
    "for file_path in nc_files:\n",
    "    gdd = process_file(file_path, '2031-2060')\n",
    "    gdd_2031_2060_results.append(gdd)\n",
    "# Calculate ensemble mean\n",
    "ensemble_mean_2031_2060 = np.mean(gdd_2031_2060_results, axis=0) / 30\n"
   ]
  },
  {
   "cell_type": "markdown",
   "id": "fcab1cb1-6431-489c-9156-ef771aa6f3ff",
   "metadata": {},
   "source": [
    "# Convert results to Xarray DataArrays and Datasets\n"
   ]
  },
  {
   "cell_type": "code",
   "execution_count": null,
   "id": "621596b7-6578-4599-89de-7b9f444fd777",
   "metadata": {},
   "outputs": [],
   "source": [
    "# Assuming `lat_1d` and `lon_1d` are the latitude and longitude arrays that match your GDD results\n",
    "\n",
    "# Stack the list of numpy arrays along a new 'ensemble' dimension\n",
    "gdd_1991_2020_da = xr.DataArray(data=np.stack(gdd_1991_2020_results),\n",
    "                                dims=[\"ensemble\", \"lat\", \"lon\"],\n",
    "                                coords={\"ensemble\": np.arange(len(gdd_1991_2020_results)),\n",
    "                                        \"lat\": lat_1d, \"lon\": lon_1d},\n",
    "                                name='gdd_ensemble_1991_2020')\n",
    "\n",
    "gdd_2031_2060_da = xr.DataArray(data=np.stack(gdd_2031_2060_results),\n",
    "                                dims=[\"ensemble\", \"lat\", \"lon\"],\n",
    "                                coords={\"ensemble\": np.arange(len(gdd_2031_2060_results)),\n",
    "                                        \"lat\": lat_1d, \"lon\": lon_1d},\n",
    "                                name='gdd_ensemble_2031_2060')\n",
    "\n",
    "# Convert ensemble means to DataArrays\n",
    "ensemble_mean_1991_2020_da = xr.DataArray(data=ensemble_mean,\n",
    "                                           dims=[\"lat\", \"lon\"],\n",
    "                                           coords={\"lat\": lat_1d, \"lon\": lon_1d},\n",
    "                                           name='gdd_ensemble_mean_1991_2020')\n",
    "\n",
    "ensemble_mean_2031_2060_da = xr.DataArray(data=ensemble_mean_2031_2060,\n",
    "                                           dims=[\"lat\", \"lon\"],\n",
    "                                           coords={\"lat\": lat_1d, \"lon\": lon_1d},\n",
    "                                           name='gdd_ensemble_mean_2031_2060')\n"
   ]
  },
  {
   "cell_type": "markdown",
   "id": "b43e341e-991d-4ac7-9eaf-1848b2047b64",
   "metadata": {},
   "source": [
    "# Create Xarray Datasets with descriptive variable names\n"
   ]
  },
  {
   "cell_type": "code",
   "execution_count": null,
   "id": "45f6ad99-eede-4b13-b7ec-12ef0cdba00f",
   "metadata": {},
   "outputs": [],
   "source": [
    "ds_1991_2020 = xr.Dataset({\"gdd_ensemble_1991_2020\": gdd_1991_2020_da,\n",
    "                           \"gdd_ensemble_mean_1991_2020\": ensemble_mean_1991_2020_da})\n",
    "\n",
    "ds_2031_2060 = xr.Dataset({\"gdd_ensemble_2031_2060\": gdd_2031_2060_da,\n",
    "                           \"gdd_ensemble_mean_2031_2060\": ensemble_mean_2031_2060_da})\n"
   ]
  },
  {
   "cell_type": "markdown",
   "id": "60d2b14a-80c1-49a9-bb2c-032ffc4bb5fc",
   "metadata": {},
   "source": [
    "# Save the Datasets to NetCDF files\n"
   ]
  },
  {
   "cell_type": "code",
   "execution_count": null,
   "id": "11e4c4d8-5856-44db-990f-1a6f26481e43",
   "metadata": {},
   "outputs": [],
   "source": [
    "output_path_1991_2020 = \"/home/shawn_preston/gddcdesm2jansept/GDD_1991_2020.nc\"\n",
    "output_path_2031_2060 = \"/home/shawn_preston/gddcdesm2jansept/GDD_2031_2060.nc\"\n",
    "\n",
    "ds_1991_2020.to_netcdf(output_path_1991_2020)\n",
    "ds_2031_2060.to_netcdf(output_path_2031_2060)\n"
   ]
  }
 ],
 "metadata": {
  "kernelspec": {
   "display_name": "jupyter_env",
   "language": "python",
   "name": "jupyter_env"
  },
  "language_info": {
   "codemirror_mode": {
    "name": "ipython",
    "version": 3
   },
   "file_extension": ".py",
   "mimetype": "text/x-python",
   "name": "python",
   "nbconvert_exporter": "python",
   "pygments_lexer": "ipython3",
   "version": "3.10.13"
  }
 },
 "nbformat": 4,
 "nbformat_minor": 5
}
