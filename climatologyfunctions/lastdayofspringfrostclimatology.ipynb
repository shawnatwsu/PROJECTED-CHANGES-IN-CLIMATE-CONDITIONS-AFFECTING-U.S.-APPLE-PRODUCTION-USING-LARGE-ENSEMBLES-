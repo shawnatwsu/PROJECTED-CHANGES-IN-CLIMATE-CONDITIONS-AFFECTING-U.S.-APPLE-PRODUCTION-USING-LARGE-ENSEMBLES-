{
 "cells": [
  {
   "cell_type": "markdown",
   "id": "b7ce787d-3ffb-4a32-b5e4-0f088e924efc",
   "metadata": {},
   "source": [
    "# Import necessary libraries\n"
   ]
  },
  {
   "cell_type": "code",
   "execution_count": null,
   "id": "feb5fb95-94fc-4233-9f23-b09258f804ea",
   "metadata": {},
   "outputs": [],
   "source": [
    "import xarray as xr\n",
    "import numpy as np\n",
    "import glob\n",
    "import cftime\n",
    "from joblib import Parallel, delayed\n"
   ]
  },
  {
   "cell_type": "markdown",
   "id": "ff7ca0ca-b735-451f-904f-ca46f6912dc4",
   "metadata": {},
   "source": [
    "# Define helper functions for data processing\n"
   ]
  },
  {
   "cell_type": "code",
   "execution_count": null,
   "id": "4f63c017-6878-48ab-ae30-f7585f073981",
   "metadata": {},
   "outputs": [],
   "source": [
    "def filter_months(data, start_month=1, end_month=7):\n",
    "    \"\"\"\n",
    "    Filter data to include only the specified range of months.\n",
    "\n",
    "    Parameters:\n",
    "    data (xarray.DataArray): The input data array with a time dimension.\n",
    "    start_month (int): The starting month (inclusive).\n",
    "    end_month (int): The ending month (inclusive).\n",
    "\n",
    "    Returns:\n",
    "    xarray.DataArray: Data array filtered to include only the specified months.\n",
    "    \"\"\"\n",
    "    months = list(range(start_month, end_month + 1))\n",
    "    return data.sel(time=data.time.dt.month.isin(months))\n"
   ]
  },
  {
   "cell_type": "code",
   "execution_count": null,
   "id": "9dbdcd20-f090-4e0f-b1af-aef71c6041d7",
   "metadata": {},
   "outputs": [],
   "source": [
    "def calculate_last_frost_date(data):\n",
    "    \"\"\"\n",
    "    Calculate the last frost date for each year.\n",
    "\n",
    "    Parameters:\n",
    "    data (xarray.DataArray): The input temperature data array in Celsius.\n",
    "\n",
    "    Returns:\n",
    "    xarray.DataArray: The last frost day of the year for each year.\n",
    "    \"\"\"\n",
    "    # Identify days with temperatures <= 0°C\n",
    "    frost_days = (data - 273.15) <= 0\n",
    "    # Calculate the day of year for frost days\n",
    "    frost_day_of_year = frost_days.where(frost_days, other=0) * data['time'].dt.dayofyear\n",
    "    # Find the last frost day of the year\n",
    "    last_frost_day_of_year = frost_day_of_year.groupby('time.year').max('time')\n",
    "    return last_frost_day_of_year\n"
   ]
  },
  {
   "cell_type": "code",
   "execution_count": null,
   "id": "ae21eab0-5404-4f53-81c2-735cd5bbb811",
   "metadata": {},
   "outputs": [],
   "source": [
    "def process_file(file_path, start_year, end_year):\n",
    "    \"\"\"\n",
    "    Process a single NetCDF file to calculate the last frost dates for a specified period.\n",
    "\n",
    "    Parameters:\n",
    "    file_path (str): The path to the NetCDF file.\n",
    "    start_year (int): The starting year of the period.\n",
    "    end_year (int): The ending year of the period.\n",
    "\n",
    "    Returns:\n",
    "    xarray.DataArray: The last frost dates for the specified period.\n",
    "    \"\"\"\n",
    "    # Load the dataset\n",
    "    ds = xr.open_dataset(file_path, use_cftime=True)\n",
    "    # Select temperature data and geographic region\n",
    "    temperature_data = ds['TREFHTMN'].sel(lon=slice(235, 295), lat=slice(25, 50))\n",
    "    # Filter data by months\n",
    "    filtered_data = filter_months(temperature_data)\n",
    "    # Select data for the specified period\n",
    "    period_data = filtered_data.sel(time=slice(cftime.DatetimeNoLeap(start_year, 1, 1), cftime.DatetimeNoLeap(end_year, 12, 31)))\n",
    "    # Calculate last frost dates\n",
    "    last_frost_dates = calculate_last_frost_date(period_data)\n",
    "    # Close the dataset\n",
    "    ds.close()\n",
    "    return last_frost_dates\n"
   ]
  },
  {
   "cell_type": "markdown",
   "id": "64280b0e-f2d2-4ebf-ad57-352a5c377649",
   "metadata": {},
   "source": [
    "# Define file paths and periods for analysis\n"
   ]
  },
  {
   "cell_type": "code",
   "execution_count": null,
   "id": "fb56ad3c-ceb0-4bb9-a1c6-8eaafdcf6c35",
   "metadata": {},
   "outputs": [],
   "source": [
    "# Path to the .nc files\n",
    "nc_files_directory = '/data/project/agaid/singh_cesm_ts/cesm_tmin_concatenated/*.nc'\n",
    "nc_files = glob.glob(nc_files_directory)\n",
    "nc_files.sort()\n",
    "\n",
    "# Define periods\n",
    "periods = {\n",
    "    '1991_2020': (1991, 2020),\n",
    "    '2031_2060': (2031, 2060)\n",
    "}\n"
   ]
  },
  {
   "cell_type": "markdown",
   "id": "8b6eb975-05dd-4a90-9800-fc2c81fb0700",
   "metadata": {},
   "source": [
    "# Initialize results dictionary to store data for each period\n"
   ]
  },
  {
   "cell_type": "code",
   "execution_count": null,
   "id": "87da9298-8897-404d-b15a-541ea77b0a57",
   "metadata": {},
   "outputs": [],
   "source": [
    "results = {period: [] for period in periods}\n"
   ]
  },
  {
   "cell_type": "markdown",
   "id": "30fe71a0-1ff7-422d-bb3c-b964c480ce38",
   "metadata": {},
   "source": [
    "# Process all files for each period using parallel processing\n"
   ]
  },
  {
   "cell_type": "code",
   "execution_count": null,
   "id": "b66f944b-3a0d-4bbc-a620-a90cc20d442f",
   "metadata": {},
   "outputs": [],
   "source": [
    "for period, (start_year, end_year) in periods.items():\n",
    "    # Use parallel processing to handle multiple files simultaneously\n",
    "    results[period] = Parallel(n_jobs=-1)(delayed(process_file)(file, start_year, end_year) for file in nc_files)\n",
    "\n",
    "    # Combine results for the period into an ensemble dataset\n",
    "    ensemble_results = xr.concat(results[period], dim='ensemble')\n",
    "    ensemble_mean = ensemble_results.mean(dim='ensemble')\n",
    "    \n",
    "    # Calculate the climatology for the average last day of frost\n",
    "    climatology = ensemble_mean.mean(dim='year')\n",
    "    \n",
    "    # Save the data to NetCDF\n",
    "    ds_ensemble = xr.Dataset({\n",
    "        'last_frost_dates_ensemble': ensemble_results,\n",
    "        'last_frost_dates_ensemble_mean': ensemble_mean,\n",
    "        'average_last_frost_climatology': climatology\n",
    "    })\n",
    "    ds_ensemble.to_netcdf(f\"/home/shawn_preston/lastdayfrostensemble/3mean_last_frost_{period}.nc\")\n",
    "\n",
    "print(\"Data for both periods processed and saved.\")\n"
   ]
  }
 ],
 "metadata": {
  "kernelspec": {
   "display_name": "jupyter_env",
   "language": "python",
   "name": "jupyter_env"
  },
  "language_info": {
   "codemirror_mode": {
    "name": "ipython",
    "version": 3
   },
   "file_extension": ".py",
   "mimetype": "text/x-python",
   "name": "python",
   "nbconvert_exporter": "python",
   "pygments_lexer": "ipython3",
   "version": "3.10.13"
  }
 },
 "nbformat": 4,
 "nbformat_minor": 5
}
