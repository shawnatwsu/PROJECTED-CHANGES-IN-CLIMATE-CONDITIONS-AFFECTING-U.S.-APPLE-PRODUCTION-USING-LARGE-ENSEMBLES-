{
 "cells": [
  {
   "cell_type": "markdown",
   "id": "776fe88a-fe4e-48c4-978a-6a74cb1f77a0",
   "metadata": {},
   "source": [
    "# Import necessary libraries\n"
   ]
  },
  {
   "cell_type": "code",
   "execution_count": null,
   "id": "2b8a0404-53bc-4484-b933-34edbf83279d",
   "metadata": {},
   "outputs": [],
   "source": [
    "import xarray as xr\n",
    "import cftime\n"
   ]
  },
  {
   "cell_type": "markdown",
   "id": "9a7f55b3-cf02-47bb-a34f-5f3a22985fae",
   "metadata": {},
   "source": [
    "# Define the file paths explicitly\n",
    "# We concatenated each individual .nc file for each ensemble member.\n",
    "# Therefore, there are 10 different .nc files from 1980-2064 for ensemble members 1011, 1021, 1041, 1061, 1081, 1231, 1251, 1281, 1301.\n"
   ]
  },
  {
   "cell_type": "code",
   "execution_count": null,
   "id": "bf0732dd-1022-48af-8923-86f4387a89fb",
   "metadata": {},
   "outputs": [],
   "source": [
    "files = [\n",
    "    \"/data/project/agaid/singh_cesm_ts/cesm_tmax/b.e21.BHISTcmip6.f09_g17.LE2-1301.005.cam.h1.TREFHTMX.19800101-19891231.nc\",\n",
    "    \"/data/project/agaid/singh_cesm_ts/cesm_tmax/b.e21.BHISTcmip6.f09_g17.LE2-1301.005.cam.h1.TREFHTMX.19900101-19991231.nc\",\n",
    "    \"/data/project/agaid/singh_cesm_ts/cesm_tmax/b.e21.BHISTcmip6.f09_g17.LE2-1301.005.cam.h1.TREFHTMX.20000101-20091231.nc\",\n",
    "    \"/data/project/agaid/singh_cesm_ts/cesm_tmax/b.e21.BHISTcmip6.f09_g17.LE2-1301.005.cam.h1.TREFHTMX.20100101-20141231.nc\",\n",
    "    \"/data/project/agaid/singh_cesm_ts/cesm_tmax/b.e21.BSSP370cmip6.f09_g17.LE2-1301.005.cam.h1.TREFHTMX.20150101-20241231.nc\",\n",
    "    \"/data/project/agaid/singh_cesm_ts/cesm_tmax/b.e21.BSSP370cmip6.f09_g17.LE2-1301.005.cam.h1.TREFHTMX.20250101-20341231.nc\",\n",
    "    \"/data/project/agaid/singh_cesm_ts/cesm_tmax/b.e21.BSSP370cmip6.f09_g17.LE2-1301.005.cam.h1.TREFHTMX.20350101-20441231.nc\",\n",
    "    \"/data/project/agaid/singh_cesm_ts/cesm_tmax/b.e21.BSSP370cmip6.f09_g17.LE2-1301.005.cam.h1.TREFHTMX.20450101-20541231.nc\",\n",
    "    \"/data/project/agaid/singh_cesm_ts/cesm_tmax/b.e21.BSSP370cmip6.f09_g17.LE2-1301.005.cam.h1.TREFHTMX.20550101-20641231.nc\"\n",
    "]\n"
   ]
  },
  {
   "cell_type": "markdown",
   "id": "1788316b-ad37-4c71-9e32-ff2d502904d6",
   "metadata": {},
   "source": [
    "# Load each file as a dataset and append to the list\n"
   ]
  },
  {
   "cell_type": "code",
   "execution_count": null,
   "id": "65dce3dc-9767-48cf-bf7c-da0342959811",
   "metadata": {},
   "outputs": [],
   "source": [
    "# Initialize an empty list to hold datasets\n",
    "datasets = []\n",
    "\n",
    "# Load each file as a dataset and append to the list\n",
    "for file in files:\n",
    "    ds = xr.open_dataset(file, use_cftime=True)\n",
    "    # Check if the dataset includes January 1, 2015, and exclude it if so\n",
    "    if '20100101-20141231' in file:  # Check if this is the file that may contain January 1, 2015\n",
    "        ds = ds.sel(time=ds.time < cftime.DatetimeNoLeap(2015, 1, 1))\n",
    "    datasets.append(ds)\n",
    "    print(f\"Loaded {file} covering {ds.time.values[0]} to {ds.time.values[-1]}\")\n"
   ]
  },
  {
   "cell_type": "markdown",
   "id": "45478202-9095-40cd-8415-b114ff4ba545",
   "metadata": {},
   "source": [
    "# Concatenate the datasets along the time dimension\n"
   ]
  },
  {
   "cell_type": "code",
   "execution_count": null,
   "id": "3dd93ea5-5a99-402a-97f3-04695fcf7b14",
   "metadata": {},
   "outputs": [],
   "source": [
    "# Concatenate the datasets along the time dimension\n",
    "ds_concat = xr.concat(datasets, dim=\"time\")\n",
    "\n",
    "# Check for any missing days (in case datasets do not cover every single day)\n",
    "all_days = xr.cftime_range(start='1980-01-01', end='2064-12-31', freq='D', calendar='noleap')\n",
    "missing_days = set(all_days.values) - set(ds_concat.time.values)\n",
    "if missing_days:\n",
    "    print(f\"Missing days detected: {sorted(missing_days)[:10]}\")\n",
    "else:\n",
    "    print(\"No missing days in concatenated dataset.\")\n"
   ]
  },
  {
   "cell_type": "markdown",
   "id": "f0c384c6-ce89-4fac-b0f2-ca15b6406289",
   "metadata": {},
   "source": [
    "# Save the concatenated dataset to the specified file\n"
   ]
  },
  {
   "cell_type": "code",
   "execution_count": null,
   "id": "c46ee773-4afe-4b4c-bd26-2d9d212e4e75",
   "metadata": {},
   "outputs": [],
   "source": [
    "# Define the output file path\n",
    "output_file = \"/data/project/agaid/singh_cesm_ts/cesm_tmax_concatenated/ensemble_1301_sim5_concatenated.nc\"\n",
    "\n",
    "# Save the concatenated dataset to the specified file\n",
    "ds_concat.to_netcdf(output_file)\n",
    "print(f\"Concatenated dataset saved to {output_file}\")\n"
   ]
  },
  {
   "cell_type": "markdown",
   "id": "e8426507-8fa1-4c83-8de4-6612c20cec2c",
   "metadata": {},
   "source": [
    "# Close the datasets to free up resources\n"
   ]
  },
  {
   "cell_type": "code",
   "execution_count": null,
   "id": "6e9f60ac-8d76-48d0-b4b7-f2420ae2d2ff",
   "metadata": {},
   "outputs": [],
   "source": [
    "# Make sure to close the datasets to free up resources\n",
    "for ds in datasets:\n",
    "    ds.close()\n"
   ]
  }
 ],
 "metadata": {
  "kernelspec": {
   "display_name": "jupyter_env",
   "language": "python",
   "name": "jupyter_env"
  },
  "language_info": {
   "codemirror_mode": {
    "name": "ipython",
    "version": 3
   },
   "file_extension": ".py",
   "mimetype": "text/x-python",
   "name": "python",
   "nbconvert_exporter": "python",
   "pygments_lexer": "ipython3",
   "version": "3.10.13"
  }
 },
 "nbformat": 4,
 "nbformat_minor": 5
}
